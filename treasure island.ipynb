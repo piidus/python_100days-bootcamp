{
 "cells": [
  {
   "cell_type": "markdown",
   "metadata": {},
   "source": [
    "Treasure Island\n",
    "Instructions\n",
    "Make your own \"Choose Your Own Adventure\" game. Use conditionals such as if, else, and elif statements to lay out the logic and the story's path in your program.\n",
    "\n",
    "To write your code according to my story, you can use this flow chart from draw.io to help you.\n",
    "\n",
    "However, I think the fun part is writing your own story 😊\n",
    "\n",
    "🧞‍♂️ 🐊 🧙‍♂️ 🧟 🧚‍♂️ 🧝‍♂️ 🥷 🤖 👽 🙀\n",
    "\n",
    "That said if you'd like to continue with my example, feel free to use the text snippets below...\n",
    "\n",
    "Text Snippets from my example\n",
    "'You're at a crossroad. Where do you want to go? Type \"left\" or \"right\"'\n",
    "'You've come to a lake. There is an island in the middle of the lake. Type \"wait\" to wait for a boat. Type \"swim\" to swim across.'\n",
    "\"You arrive at the island unharmed. There is a house with 3 doors. One red, one yellow and one blue. Which colour do you choose?\"\n",
    "\"It's a room full of fire. Game Over.\"\n",
    "\"You found the treasure! You Win!\"\n",
    "\"You enter a room of beasts. Game Over.\"\n",
    "\"You chose a door that doesn't exist. Game Over.\"\n",
    "\"You get attacked by an angry trout. Game Over.\"\n",
    "\"You fell into a hole. Game Over.\"\n",
    "Escaping Characters\n",
    "If you want to use multiple sets of quotes inside a single string, you might have to \"escape\" some of them using the backslash \\. You can see this in my first sentence: 'You're at a crossroad...'. More on escaping characters here.\n",
    "\n",
    "Extensions\n",
    "Have a think about how you might write your program to make a player's answers less case-sensitive. In other words, your code should work regardless of whether your user answers \"left\" or \"Left\".\n",
    "\n",
    "You can also add your own ASCII art. Just remember to add three single quotes ''' at the start and at the end of your artwork to turn it into a multi-line string."
   ]
  },
  {
   "cell_type": "code",
   "execution_count": 7,
   "metadata": {},
   "outputs": [
    {
     "name": "stdout",
     "output_type": "stream",
     "text": [
      "['⬜️', '⬜️', '⬜️']\n",
      "['⬜️', '⬜️', '⬜️']\n",
      "['⬜️', '⬜️', '⬜️']\n",
      "['⬜️', '⬜️', '⬜️']\n",
      "['X', '⬜️', '⬜️']\n",
      "['⬜️', '⬜️', '⬜️']\n"
     ]
    }
   ],
   "source": [
    "# 🚨 Don't change the code below 👇\n",
    "row1 = [\"⬜️\",\"⬜️\",\"⬜️\"]\n",
    "row2 = [\"⬜️\",\"⬜️\",\"⬜️\"]\n",
    "row3 = [\"⬜️\",\"⬜️\",\"⬜️\"]\n",
    "map = [row1, row2, row3]\n",
    "print(f\"{row1}\\n{row2}\\n{row3}\")\n",
    "position = input(\"Where do you want to put the treasure? \")\n",
    "# 🚨 Don't change the code above 👆\n",
    "\n",
    "#Write your code below this row 👇\n",
    "hori = int(position[0])\n",
    "vert = int(position[1])\n",
    "select_row = map[vert-1]\n",
    "select_row[hori-1] = \"X\"\n",
    "# print(select_row)\n",
    "\n",
    "\n",
    "\n",
    "\n",
    "\n",
    "#Write your code above this row 👆\n",
    "\n",
    "# 🚨 Don't change the code below 👇\n",
    "print(f\"{row1}\\n{row2}\\n{row3}\")"
   ]
  },
  {
   "cell_type": "code",
   "execution_count": null,
   "metadata": {},
   "outputs": [],
   "source": [
    "# input like 12"
   ]
  }
 ],
 "metadata": {
  "kernelspec": {
   "display_name": ".venv",
   "language": "python",
   "name": "python3"
  },
  "language_info": {
   "codemirror_mode": {
    "name": "ipython",
    "version": 3
   },
   "file_extension": ".py",
   "mimetype": "text/x-python",
   "name": "python",
   "nbconvert_exporter": "python",
   "pygments_lexer": "ipython3",
   "version": "3.12.2"
  }
 },
 "nbformat": 4,
 "nbformat_minor": 2
}
